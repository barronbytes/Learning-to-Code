{
 "cells": [
  {
   "cell_type": "markdown",
   "id": "63d0a69d",
   "metadata": {},
   "source": [
    "# Analysis\n",
    "\n",
    "Create your own EDA below! Create as many code-blocks as you need.\n",
    "\n",
    "Once you've completed your EDA, complete the section titled **Reflections** where you will answer questions about your EDA."
   ]
  },
  {
   "cell_type": "code",
   "execution_count": 1,
   "id": "6655a736",
   "metadata": {},
   "outputs": [],
   "source": [
    "import pandas as pd \n",
    "import numpy as np\n",
    "\n",
    "import seaborn as sns\n",
    "import matplotlib.pyplot as plt"
   ]
  },
  {
   "cell_type": "code",
   "execution_count": 4,
   "id": "868ea7cd",
   "metadata": {},
   "outputs": [],
   "source": [
    "# import coffee data\n",
    "coffee = pd.read_csv(\"../data/crop/coffee_output.csv\")\n",
    "\n",
    "# import weather data\n",
    "weather = pd.read_csv(\"../data/weather/weather_data.csv\")"
   ]
  },
  {
   "cell_type": "code",
   "execution_count": 9,
   "id": "71bfd191",
   "metadata": {},
   "outputs": [],
   "source": [
    "# TODO: Merge these two dataframes together\n",
    "\n",
    "merged_df = pd.merge(weather, coffee, on=[\"year\", \"subdivision\"])\n"
   ]
  },
  {
   "cell_type": "code",
   "execution_count": 10,
   "id": "44f435eb",
   "metadata": {},
   "outputs": [
    {
     "data": {
      "text/html": [
       "<div>\n",
       "<style scoped>\n",
       "    .dataframe tbody tr th:only-of-type {\n",
       "        vertical-align: middle;\n",
       "    }\n",
       "\n",
       "    .dataframe tbody tr th {\n",
       "        vertical-align: top;\n",
       "    }\n",
       "\n",
       "    .dataframe thead th {\n",
       "        text-align: right;\n",
       "    }\n",
       "</style>\n",
       "<table border=\"1\" class=\"dataframe\">\n",
       "  <thead>\n",
       "    <tr style=\"text-align: right;\">\n",
       "      <th></th>\n",
       "      <th>year</th>\n",
       "      <th>rain_max</th>\n",
       "      <th>temp_avg</th>\n",
       "      <th>temp_max</th>\n",
       "      <th>temp_min</th>\n",
       "      <th>hum_max</th>\n",
       "      <th>hum_min</th>\n",
       "      <th>wind_max</th>\n",
       "      <th>wind_avg</th>\n",
       "      <th>subdivision</th>\n",
       "      <th>country</th>\n",
       "      <th>type</th>\n",
       "      <th>60kgs_bag</th>\n",
       "      <th>nonbearing_trees</th>\n",
       "      <th>bearing_trees</th>\n",
       "      <th>nonbear_hectares</th>\n",
       "      <th>bearing_hectares</th>\n",
       "      <th>bearing_trees_per_hectare</th>\n",
       "      <th>nonbearing_trees_per_hectare</th>\n",
       "    </tr>\n",
       "  </thead>\n",
       "  <tbody>\n",
       "    <tr>\n",
       "      <th>0</th>\n",
       "      <td>2006</td>\n",
       "      <td>6.670968</td>\n",
       "      <td>21.803087</td>\n",
       "      <td>27.190323</td>\n",
       "      <td>18.654839</td>\n",
       "      <td>97.129032</td>\n",
       "      <td>57.806452</td>\n",
       "      <td>9.706452</td>\n",
       "      <td>2.075207</td>\n",
       "      <td>Minas Gerais</td>\n",
       "      <td>Brazil</td>\n",
       "      <td>Arabica</td>\n",
       "      <td>16.30</td>\n",
       "      <td>581.0</td>\n",
       "      <td>5330.0</td>\n",
       "      <td>175.0</td>\n",
       "      <td>2298.0</td>\n",
       "      <td>2319.0</td>\n",
       "      <td>3320.0</td>\n",
       "    </tr>\n",
       "    <tr>\n",
       "      <th>1</th>\n",
       "      <td>2007</td>\n",
       "      <td>1.866250</td>\n",
       "      <td>23.040999</td>\n",
       "      <td>27.649375</td>\n",
       "      <td>18.753125</td>\n",
       "      <td>87.837500</td>\n",
       "      <td>48.493750</td>\n",
       "      <td>8.749375</td>\n",
       "      <td>2.069605</td>\n",
       "      <td>Minas Gerais</td>\n",
       "      <td>Brazil</td>\n",
       "      <td>Arabica</td>\n",
       "      <td>23.70</td>\n",
       "      <td>563.0</td>\n",
       "      <td>5730.0</td>\n",
       "      <td>186.0</td>\n",
       "      <td>2245.0</td>\n",
       "      <td>2552.0</td>\n",
       "      <td>3030.0</td>\n",
       "    </tr>\n",
       "    <tr>\n",
       "      <th>2</th>\n",
       "      <td>2008</td>\n",
       "      <td>3.777049</td>\n",
       "      <td>20.682400</td>\n",
       "      <td>27.000000</td>\n",
       "      <td>16.216393</td>\n",
       "      <td>96.136612</td>\n",
       "      <td>51.415301</td>\n",
       "      <td>8.865027</td>\n",
       "      <td>1.584408</td>\n",
       "      <td>Minas Gerais</td>\n",
       "      <td>Brazil</td>\n",
       "      <td>Arabica</td>\n",
       "      <td>16.85</td>\n",
       "      <td>679.0</td>\n",
       "      <td>5720.0</td>\n",
       "      <td>196.0</td>\n",
       "      <td>2235.0</td>\n",
       "      <td>2559.0</td>\n",
       "      <td>3468.0</td>\n",
       "    </tr>\n",
       "    <tr>\n",
       "      <th>3</th>\n",
       "      <td>2009</td>\n",
       "      <td>3.380220</td>\n",
       "      <td>21.023802</td>\n",
       "      <td>27.769231</td>\n",
       "      <td>16.410440</td>\n",
       "      <td>96.054945</td>\n",
       "      <td>49.329670</td>\n",
       "      <td>9.114286</td>\n",
       "      <td>1.611746</td>\n",
       "      <td>Minas Gerais</td>\n",
       "      <td>Brazil</td>\n",
       "      <td>Arabica</td>\n",
       "      <td>25.55</td>\n",
       "      <td>663.0</td>\n",
       "      <td>5770.0</td>\n",
       "      <td>188.0</td>\n",
       "      <td>2223.0</td>\n",
       "      <td>2596.0</td>\n",
       "      <td>3527.0</td>\n",
       "    </tr>\n",
       "    <tr>\n",
       "      <th>4</th>\n",
       "      <td>2010</td>\n",
       "      <td>2.183516</td>\n",
       "      <td>21.444293</td>\n",
       "      <td>28.580769</td>\n",
       "      <td>16.156044</td>\n",
       "      <td>95.247253</td>\n",
       "      <td>44.648352</td>\n",
       "      <td>9.109341</td>\n",
       "      <td>1.455907</td>\n",
       "      <td>Minas Gerais</td>\n",
       "      <td>Brazil</td>\n",
       "      <td>Arabica</td>\n",
       "      <td>22.10</td>\n",
       "      <td>873.0</td>\n",
       "      <td>5725.0</td>\n",
       "      <td>244.0</td>\n",
       "      <td>2151.0</td>\n",
       "      <td>2662.0</td>\n",
       "      <td>3578.0</td>\n",
       "    </tr>\n",
       "  </tbody>\n",
       "</table>\n",
       "</div>"
      ],
      "text/plain": [
       "   year  rain_max   temp_avg   temp_max   temp_min    hum_max    hum_min  \\\n",
       "0  2006  6.670968  21.803087  27.190323  18.654839  97.129032  57.806452   \n",
       "1  2007  1.866250  23.040999  27.649375  18.753125  87.837500  48.493750   \n",
       "2  2008  3.777049  20.682400  27.000000  16.216393  96.136612  51.415301   \n",
       "3  2009  3.380220  21.023802  27.769231  16.410440  96.054945  49.329670   \n",
       "4  2010  2.183516  21.444293  28.580769  16.156044  95.247253  44.648352   \n",
       "\n",
       "   wind_max  wind_avg   subdivision country     type  60kgs_bag  \\\n",
       "0  9.706452  2.075207  Minas Gerais  Brazil  Arabica      16.30   \n",
       "1  8.749375  2.069605  Minas Gerais  Brazil  Arabica      23.70   \n",
       "2  8.865027  1.584408  Minas Gerais  Brazil  Arabica      16.85   \n",
       "3  9.114286  1.611746  Minas Gerais  Brazil  Arabica      25.55   \n",
       "4  9.109341  1.455907  Minas Gerais  Brazil  Arabica      22.10   \n",
       "\n",
       "   nonbearing_trees  bearing_trees  nonbear_hectares  bearing_hectares  \\\n",
       "0             581.0         5330.0             175.0            2298.0   \n",
       "1             563.0         5730.0             186.0            2245.0   \n",
       "2             679.0         5720.0             196.0            2235.0   \n",
       "3             663.0         5770.0             188.0            2223.0   \n",
       "4             873.0         5725.0             244.0            2151.0   \n",
       "\n",
       "   bearing_trees_per_hectare  nonbearing_trees_per_hectare  \n",
       "0                     2319.0                        3320.0  \n",
       "1                     2552.0                        3030.0  \n",
       "2                     2559.0                        3468.0  \n",
       "3                     2596.0                        3527.0  \n",
       "4                     2662.0                        3578.0  "
      ]
     },
     "execution_count": 10,
     "metadata": {},
     "output_type": "execute_result"
    }
   ],
   "source": [
    "# TODO: View the first 5 rows of your data\n",
    "\n",
    "merged_df.head()"
   ]
  },
  {
   "cell_type": "code",
   "execution_count": 11,
   "id": "9600b65c",
   "metadata": {},
   "outputs": [
    {
     "name": "stdout",
     "output_type": "stream",
     "text": [
      "<class 'pandas.core.frame.DataFrame'>\n",
      "RangeIndex: 18 entries, 0 to 17\n",
      "Data columns (total 19 columns):\n",
      " #   Column                        Non-Null Count  Dtype  \n",
      "---  ------                        --------------  -----  \n",
      " 0   year                          18 non-null     int64  \n",
      " 1   rain_max                      18 non-null     float64\n",
      " 2   temp_avg                      18 non-null     float64\n",
      " 3   temp_max                      18 non-null     float64\n",
      " 4   temp_min                      18 non-null     float64\n",
      " 5   hum_max                       18 non-null     float64\n",
      " 6   hum_min                       18 non-null     float64\n",
      " 7   wind_max                      18 non-null     float64\n",
      " 8   wind_avg                      18 non-null     float64\n",
      " 9   subdivision                   18 non-null     object \n",
      " 10  country                       18 non-null     object \n",
      " 11  type                          18 non-null     object \n",
      " 12  60kgs_bag                     18 non-null     float64\n",
      " 13  nonbearing_trees              17 non-null     float64\n",
      " 14  bearing_trees                 17 non-null     float64\n",
      " 15  nonbear_hectares              17 non-null     float64\n",
      " 16  bearing_hectares              17 non-null     float64\n",
      " 17  bearing_trees_per_hectare     17 non-null     float64\n",
      " 18  nonbearing_trees_per_hectare  17 non-null     float64\n",
      "dtypes: float64(15), int64(1), object(3)\n",
      "memory usage: 2.8+ KB\n"
     ]
    }
   ],
   "source": [
    "# TODO: Check for null values \n",
    "\n",
    "merged_df.info()"
   ]
  },
  {
   "cell_type": "code",
   "execution_count": 12,
   "id": "ff411571",
   "metadata": {},
   "outputs": [
    {
     "name": "stdout",
     "output_type": "stream",
     "text": [
      "<class 'pandas.core.frame.DataFrame'>\n",
      "Index: 17 entries, 0 to 17\n",
      "Data columns (total 19 columns):\n",
      " #   Column                        Non-Null Count  Dtype  \n",
      "---  ------                        --------------  -----  \n",
      " 0   year                          17 non-null     int64  \n",
      " 1   rain_max                      17 non-null     float64\n",
      " 2   temp_avg                      17 non-null     float64\n",
      " 3   temp_max                      17 non-null     float64\n",
      " 4   temp_min                      17 non-null     float64\n",
      " 5   hum_max                       17 non-null     float64\n",
      " 6   hum_min                       17 non-null     float64\n",
      " 7   wind_max                      17 non-null     float64\n",
      " 8   wind_avg                      17 non-null     float64\n",
      " 9   subdivision                   17 non-null     object \n",
      " 10  country                       17 non-null     object \n",
      " 11  type                          17 non-null     object \n",
      " 12  60kgs_bag                     17 non-null     float64\n",
      " 13  nonbearing_trees              17 non-null     float64\n",
      " 14  bearing_trees                 17 non-null     float64\n",
      " 15  nonbear_hectares              17 non-null     float64\n",
      " 16  bearing_hectares              17 non-null     float64\n",
      " 17  bearing_trees_per_hectare     17 non-null     float64\n",
      " 18  nonbearing_trees_per_hectare  17 non-null     float64\n",
      "dtypes: float64(15), int64(1), object(3)\n",
      "memory usage: 2.7+ KB\n"
     ]
    }
   ],
   "source": [
    "# TODO: Drop rows that contain null values\n",
    "\n",
    "merged_df.dropna(inplace=True)\n",
    "merged_df.info()"
   ]
  },
  {
   "cell_type": "code",
   "execution_count": null,
   "id": "22fd1940",
   "metadata": {},
   "outputs": [],
   "source": [
    "# TODO: BEGIN YOUR EDA!\n",
    "\n"
   ]
  },
  {
   "cell_type": "markdown",
   "id": "a33e1db5",
   "metadata": {},
   "source": [
    "## Reflections\n",
    "\n",
    "Answer each question based on the visualizations that you've generated.\n",
    "\n",
    "Remember, you must justify your answers with proof! Look back to W6D3 for more context."
   ]
  },
  {
   "cell_type": "code",
   "execution_count": 13,
   "id": "296dceb0",
   "metadata": {},
   "outputs": [
    {
     "data": {
      "text/plain": [
       "np.float64(-0.12477217306378187)"
      ]
     },
     "execution_count": 13,
     "metadata": {},
     "output_type": "execute_result"
    }
   ],
   "source": [
    "temp_bags = merged_df[\"temp_avg\"].corr(merged_df[\"60kgs_bag\"])\n",
    "temp_bags"
   ]
  },
  {
   "cell_type": "markdown",
   "id": "fe46532b",
   "metadata": {},
   "source": [
    "What is the relationship between temp_avg and 60kgs_bag? How *strong* is this relationship? Use pearson's correlation coefficient.\n",
    "\n",
    "> The correlation between both is -0.12. This is weakly negative."
   ]
  },
  {
   "cell_type": "code",
   "execution_count": 14,
   "id": "042b3ab8",
   "metadata": {},
   "outputs": [
    {
     "data": {
      "text/plain": [
       "np.float64(-0.5401709088326815)"
      ]
     },
     "execution_count": 14,
     "metadata": {},
     "output_type": "execute_result"
    }
   ],
   "source": [
    "hum_bags = merged_df[\"hum_min\"].corr(merged_df[\"60kgs_bag\"])\n",
    "hum_bags"
   ]
  },
  {
   "cell_type": "markdown",
   "id": "ccd4f1e8",
   "metadata": {},
   "source": [
    "What is the relationship between minimum humidity and 60kgs_bag? How *strong* is this relationship? Use pearson's correlation coefficient.\n",
    "\n",
    "> The correlation between both is -0.54. This is moderately negative."
   ]
  },
  {
   "cell_type": "code",
   "execution_count": 15,
   "id": "0745e917",
   "metadata": {},
   "outputs": [
    {
     "data": {
      "text/plain": [
       "np.float64(-0.3958109913734919)"
      ]
     },
     "execution_count": 15,
     "metadata": {},
     "output_type": "execute_result"
    }
   ],
   "source": [
    "rain_bags = merged_df[\"rain_max\"].corr(merged_df[\"60kgs_bag\"])\n",
    "rain_bags"
   ]
  },
  {
   "cell_type": "markdown",
   "id": "0b500aa4",
   "metadata": {},
   "source": [
    "What is the relationship between rain_max and 60kgs_bag? How *strong* is this relationship? Use pearson's correlation coefficient.\n",
    "\n",
    "> The correlation between both is -0.39. This is weakly negative."
   ]
  },
  {
   "cell_type": "code",
   "execution_count": 16,
   "id": "f5ff2afc",
   "metadata": {},
   "outputs": [
    {
     "data": {
      "text/plain": [
       "np.float64(-0.7073271023009807)"
      ]
     },
     "execution_count": 16,
     "metadata": {},
     "output_type": "execute_result"
    }
   ],
   "source": [
    "wind_bags = merged_df[\"wind_avg\"].corr(merged_df[\"60kgs_bag\"])\n",
    "wind_bags"
   ]
  },
  {
   "cell_type": "markdown",
   "id": "be3dab9c",
   "metadata": {},
   "source": [
    "What is the relationship between average wind speed and 60kgs_bag? How *strong* is this relationship? Use pearson's correlation coefficient.\n",
    "\n",
    "> The correlation between both is -0.70. This is strongly negative."
   ]
  },
  {
   "cell_type": "code",
   "execution_count": 17,
   "id": "407e20d0",
   "metadata": {},
   "outputs": [
    {
     "name": "stdout",
     "output_type": "stream",
     "text": [
      "[np.float64(-0.43207570398850825), np.float64(-0.5512035768352691), np.float64(-0.25352398713240387), np.float64(-0.8939870098310204)]\n"
     ]
    }
   ],
   "source": [
    "col_1 = [\"temp_avg\", \"hum_min\", \"rain_max\", \"wind_avg\"]\n",
    "pearson_corr = []\n",
    "for col in col_1:\n",
    "    pearson_corr.append(merged_df[col].corr(merged_df[\"bearing_trees_per_hectare\"]))\n",
    "print(pearson_corr)"
   ]
  },
  {
   "cell_type": "markdown",
   "id": "ee6ea06a",
   "metadata": {},
   "source": [
    "Perform the same bivariate analysis between the mentioned weather columns (temp_avg, hum_min, rain_max, and wind_avg) and a coffee-related column of your choice (bearing_trees, nonbearing_trees, bearing_trees_per_hectare, etc). Which directions do these relationships follow? What are the strengths of these relationships?\n",
    "\n",
    "> All relationships were negative against brearing trees per hectare. These are the results: -0.43 (moderately negative vs temp_avg); -0.55 (moderately negative vs hum_min); -0.25 (weakly negative vs rain_max); -0.89 (strongly negative vs wind_avg)"
   ]
  },
  {
   "cell_type": "markdown",
   "id": "18ba1ed2",
   "metadata": {},
   "source": [
    "Which weather factor seems to influence coffee production the most? \n",
    "\n",
    "> Only wind had both strong correlation coefficients of -0.70 vs 60kgs_bag and -0.89 vs bearing_trees_per_hectare. Both correlations are negative. High wind is the strongest (negative) factor to coffee production."
   ]
  },
  {
   "cell_type": "markdown",
   "id": "95e8c38b",
   "metadata": {},
   "source": [
    "Which data would you collect to continue exploring the impacts of weather and economic forces on coffee production?\n",
    "\n",
    "Answer here"
   ]
  },
  {
   "cell_type": "markdown",
   "id": "0ca6f497",
   "metadata": {},
   "source": [
    "If you were preparing a report to provide coffee farmers, which weather condititions would you state are the most favorable for coffee growing (assuming any exist)?\n",
    "\n",
    "Answer here"
   ]
  }
 ],
 "metadata": {
  "kernelspec": {
   "display_name": "ds",
   "language": "python",
   "name": "python3"
  },
  "language_info": {
   "codemirror_mode": {
    "name": "ipython",
    "version": 3
   },
   "file_extension": ".py",
   "mimetype": "text/x-python",
   "name": "python",
   "nbconvert_exporter": "python",
   "pygments_lexer": "ipython3",
   "version": "3.12.9"
  }
 },
 "nbformat": 4,
 "nbformat_minor": 5
}
