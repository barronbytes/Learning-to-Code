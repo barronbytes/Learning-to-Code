{
 "cells": [
  {
   "cell_type": "markdown",
   "id": "63d0a69d",
   "metadata": {},
   "source": [
    "# Explore Cofffee\n",
    "\n",
    "Create your own EDA below! Create as many code-blocks as you need.\n",
    "\n",
    "Once you've completed your EDA, complete the section titled **Reflections** where you will answer questions about your EDA."
   ]
  },
  {
   "cell_type": "code",
   "execution_count": 2,
   "id": "6655a736",
   "metadata": {},
   "outputs": [],
   "source": [
    "import pandas as pd \n",
    "import numpy as np\n",
    "\n",
    "import seaborn as sns\n",
    "import matplotlib.pyplot as plt"
   ]
  },
  {
   "cell_type": "code",
   "execution_count": 3,
   "id": "868ea7cd",
   "metadata": {},
   "outputs": [],
   "source": [
    "# import data\n",
    "coffee = pd.read_csv(\"../data/crop/coffee_output.csv\")"
   ]
  },
  {
   "cell_type": "code",
   "execution_count": 4,
   "id": "a7c1799e",
   "metadata": {},
   "outputs": [
    {
     "data": {
      "text/html": [
       "<div>\n",
       "<style scoped>\n",
       "    .dataframe tbody tr th:only-of-type {\n",
       "        vertical-align: middle;\n",
       "    }\n",
       "\n",
       "    .dataframe tbody tr th {\n",
       "        vertical-align: top;\n",
       "    }\n",
       "\n",
       "    .dataframe thead th {\n",
       "        text-align: right;\n",
       "    }\n",
       "</style>\n",
       "<table border=\"1\" class=\"dataframe\">\n",
       "  <thead>\n",
       "    <tr style=\"text-align: right;\">\n",
       "      <th></th>\n",
       "      <th>country</th>\n",
       "      <th>subdivision</th>\n",
       "      <th>type</th>\n",
       "      <th>60kgs_bag</th>\n",
       "      <th>year</th>\n",
       "      <th>nonbearing_trees</th>\n",
       "      <th>bearing_trees</th>\n",
       "      <th>nonbear_hectares</th>\n",
       "      <th>bearing_hectares</th>\n",
       "      <th>bearing_trees_per_hectare</th>\n",
       "      <th>nonbearing_trees_per_hectare</th>\n",
       "    </tr>\n",
       "  </thead>\n",
       "  <tbody>\n",
       "    <tr>\n",
       "      <th>0</th>\n",
       "      <td>Brazil</td>\n",
       "      <td>Minas Gerais</td>\n",
       "      <td>Arabica</td>\n",
       "      <td>16.2</td>\n",
       "      <td>2002</td>\n",
       "      <td>1500.0</td>\n",
       "      <td>4465.0</td>\n",
       "      <td>495.0</td>\n",
       "      <td>2120.0</td>\n",
       "      <td>2106.0</td>\n",
       "      <td>3030.0</td>\n",
       "    </tr>\n",
       "    <tr>\n",
       "      <th>1</th>\n",
       "      <td>Brazil</td>\n",
       "      <td>Espirito Santo</td>\n",
       "      <td>Arabica</td>\n",
       "      <td>2.2</td>\n",
       "      <td>2002</td>\n",
       "      <td>1500.0</td>\n",
       "      <td>4465.0</td>\n",
       "      <td>495.0</td>\n",
       "      <td>2120.0</td>\n",
       "      <td>2106.0</td>\n",
       "      <td>3030.0</td>\n",
       "    </tr>\n",
       "    <tr>\n",
       "      <th>2</th>\n",
       "      <td>Brazil</td>\n",
       "      <td>Espirito Santo</td>\n",
       "      <td>Robusta</td>\n",
       "      <td>7.5</td>\n",
       "      <td>2002</td>\n",
       "      <td>1500.0</td>\n",
       "      <td>4465.0</td>\n",
       "      <td>495.0</td>\n",
       "      <td>2120.0</td>\n",
       "      <td>2106.0</td>\n",
       "      <td>3030.0</td>\n",
       "    </tr>\n",
       "    <tr>\n",
       "      <th>3</th>\n",
       "      <td>Brazil</td>\n",
       "      <td>Sao Paulo</td>\n",
       "      <td>Arabica</td>\n",
       "      <td>3.2</td>\n",
       "      <td>2002</td>\n",
       "      <td>1500.0</td>\n",
       "      <td>4465.0</td>\n",
       "      <td>495.0</td>\n",
       "      <td>2120.0</td>\n",
       "      <td>2106.0</td>\n",
       "      <td>3030.0</td>\n",
       "    </tr>\n",
       "    <tr>\n",
       "      <th>4</th>\n",
       "      <td>Brazil</td>\n",
       "      <td>Parana</td>\n",
       "      <td>Arabica</td>\n",
       "      <td>0.5</td>\n",
       "      <td>2002</td>\n",
       "      <td>1500.0</td>\n",
       "      <td>4465.0</td>\n",
       "      <td>495.0</td>\n",
       "      <td>2120.0</td>\n",
       "      <td>2106.0</td>\n",
       "      <td>3030.0</td>\n",
       "    </tr>\n",
       "  </tbody>\n",
       "</table>\n",
       "</div>"
      ],
      "text/plain": [
       "  country     subdivision     type  60kgs_bag  year  nonbearing_trees  \\\n",
       "0  Brazil    Minas Gerais  Arabica       16.2  2002            1500.0   \n",
       "1  Brazil  Espirito Santo  Arabica        2.2  2002            1500.0   \n",
       "2  Brazil  Espirito Santo  Robusta        7.5  2002            1500.0   \n",
       "3  Brazil       Sao Paulo  Arabica        3.2  2002            1500.0   \n",
       "4  Brazil          Parana  Arabica        0.5  2002            1500.0   \n",
       "\n",
       "   bearing_trees  nonbear_hectares  bearing_hectares  \\\n",
       "0         4465.0             495.0            2120.0   \n",
       "1         4465.0             495.0            2120.0   \n",
       "2         4465.0             495.0            2120.0   \n",
       "3         4465.0             495.0            2120.0   \n",
       "4         4465.0             495.0            2120.0   \n",
       "\n",
       "   bearing_trees_per_hectare  nonbearing_trees_per_hectare  \n",
       "0                     2106.0                        3030.0  \n",
       "1                     2106.0                        3030.0  \n",
       "2                     2106.0                        3030.0  \n",
       "3                     2106.0                        3030.0  \n",
       "4                     2106.0                        3030.0  "
      ]
     },
     "execution_count": 4,
     "metadata": {},
     "output_type": "execute_result"
    }
   ],
   "source": [
    "# TODO: view first 5 rows of your data\n",
    "coffee.head()"
   ]
  },
  {
   "cell_type": "code",
   "execution_count": 5,
   "id": "83e6ecbd",
   "metadata": {},
   "outputs": [
    {
     "data": {
      "text/html": [
       "<div>\n",
       "<style scoped>\n",
       "    .dataframe tbody tr th:only-of-type {\n",
       "        vertical-align: middle;\n",
       "    }\n",
       "\n",
       "    .dataframe tbody tr th {\n",
       "        vertical-align: top;\n",
       "    }\n",
       "\n",
       "    .dataframe thead th {\n",
       "        text-align: right;\n",
       "    }\n",
       "</style>\n",
       "<table border=\"1\" class=\"dataframe\">\n",
       "  <thead>\n",
       "    <tr style=\"text-align: right;\">\n",
       "      <th></th>\n",
       "      <th>60kgs_bag</th>\n",
       "      <th>year</th>\n",
       "      <th>nonbearing_trees</th>\n",
       "      <th>bearing_trees</th>\n",
       "      <th>nonbear_hectares</th>\n",
       "      <th>bearing_hectares</th>\n",
       "      <th>bearing_trees_per_hectare</th>\n",
       "      <th>nonbearing_trees_per_hectare</th>\n",
       "    </tr>\n",
       "  </thead>\n",
       "  <tbody>\n",
       "    <tr>\n",
       "      <th>count</th>\n",
       "      <td>114.000000</td>\n",
       "      <td>114.000000</td>\n",
       "      <td>109.000000</td>\n",
       "      <td>109.000000</td>\n",
       "      <td>109.000000</td>\n",
       "      <td>109.000000</td>\n",
       "      <td>109.000000</td>\n",
       "      <td>109.000000</td>\n",
       "    </tr>\n",
       "    <tr>\n",
       "      <th>mean</th>\n",
       "      <td>8.812281</td>\n",
       "      <td>2012.552632</td>\n",
       "      <td>994.495413</td>\n",
       "      <td>5646.926606</td>\n",
       "      <td>298.055046</td>\n",
       "      <td>2146.513761</td>\n",
       "      <td>2639.027523</td>\n",
       "      <td>3345.082569</td>\n",
       "    </tr>\n",
       "    <tr>\n",
       "      <th>std</th>\n",
       "      <td>9.051550</td>\n",
       "      <td>6.265642</td>\n",
       "      <td>310.338484</td>\n",
       "      <td>372.684151</td>\n",
       "      <td>97.572559</td>\n",
       "      <td>96.699000</td>\n",
       "      <td>245.497999</td>\n",
       "      <td>175.124513</td>\n",
       "    </tr>\n",
       "    <tr>\n",
       "      <th>min</th>\n",
       "      <td>0.500000</td>\n",
       "      <td>2002.000000</td>\n",
       "      <td>466.000000</td>\n",
       "      <td>4465.000000</td>\n",
       "      <td>148.000000</td>\n",
       "      <td>2010.000000</td>\n",
       "      <td>2106.000000</td>\n",
       "      <td>3030.000000</td>\n",
       "    </tr>\n",
       "    <tr>\n",
       "      <th>25%</th>\n",
       "      <td>2.600000</td>\n",
       "      <td>2007.000000</td>\n",
       "      <td>679.000000</td>\n",
       "      <td>5640.000000</td>\n",
       "      <td>205.000000</td>\n",
       "      <td>2070.000000</td>\n",
       "      <td>2552.000000</td>\n",
       "      <td>3191.000000</td>\n",
       "    </tr>\n",
       "    <tr>\n",
       "      <th>50%</th>\n",
       "      <td>4.750000</td>\n",
       "      <td>2013.000000</td>\n",
       "      <td>1050.000000</td>\n",
       "      <td>5735.000000</td>\n",
       "      <td>307.000000</td>\n",
       "      <td>2135.000000</td>\n",
       "      <td>2679.000000</td>\n",
       "      <td>3415.000000</td>\n",
       "    </tr>\n",
       "    <tr>\n",
       "      <th>75%</th>\n",
       "      <td>12.175000</td>\n",
       "      <td>2018.000000</td>\n",
       "      <td>1185.000000</td>\n",
       "      <td>5810.000000</td>\n",
       "      <td>347.000000</td>\n",
       "      <td>2223.000000</td>\n",
       "      <td>2786.000000</td>\n",
       "      <td>3483.000000</td>\n",
       "    </tr>\n",
       "    <tr>\n",
       "      <th>max</th>\n",
       "      <td>34.800000</td>\n",
       "      <td>2023.000000</td>\n",
       "      <td>1510.000000</td>\n",
       "      <td>6200.000000</td>\n",
       "      <td>495.000000</td>\n",
       "      <td>2360.000000</td>\n",
       "      <td>3020.000000</td>\n",
       "      <td>3578.000000</td>\n",
       "    </tr>\n",
       "  </tbody>\n",
       "</table>\n",
       "</div>"
      ],
      "text/plain": [
       "        60kgs_bag         year  nonbearing_trees  bearing_trees  \\\n",
       "count  114.000000   114.000000        109.000000     109.000000   \n",
       "mean     8.812281  2012.552632        994.495413    5646.926606   \n",
       "std      9.051550     6.265642        310.338484     372.684151   \n",
       "min      0.500000  2002.000000        466.000000    4465.000000   \n",
       "25%      2.600000  2007.000000        679.000000    5640.000000   \n",
       "50%      4.750000  2013.000000       1050.000000    5735.000000   \n",
       "75%     12.175000  2018.000000       1185.000000    5810.000000   \n",
       "max     34.800000  2023.000000       1510.000000    6200.000000   \n",
       "\n",
       "       nonbear_hectares  bearing_hectares  bearing_trees_per_hectare  \\\n",
       "count        109.000000        109.000000                 109.000000   \n",
       "mean         298.055046       2146.513761                2639.027523   \n",
       "std           97.572559         96.699000                 245.497999   \n",
       "min          148.000000       2010.000000                2106.000000   \n",
       "25%          205.000000       2070.000000                2552.000000   \n",
       "50%          307.000000       2135.000000                2679.000000   \n",
       "75%          347.000000       2223.000000                2786.000000   \n",
       "max          495.000000       2360.000000                3020.000000   \n",
       "\n",
       "       nonbearing_trees_per_hectare  \n",
       "count                    109.000000  \n",
       "mean                    3345.082569  \n",
       "std                      175.124513  \n",
       "min                     3030.000000  \n",
       "25%                     3191.000000  \n",
       "50%                     3415.000000  \n",
       "75%                     3483.000000  \n",
       "max                     3578.000000  "
      ]
     },
     "execution_count": 5,
     "metadata": {},
     "output_type": "execute_result"
    }
   ],
   "source": [
    "# TODO: describe your numeric columns\n",
    "coffee.describe()"
   ]
  },
  {
   "cell_type": "code",
   "execution_count": 6,
   "id": "ab0c8b1f",
   "metadata": {},
   "outputs": [
    {
     "name": "stdout",
     "output_type": "stream",
     "text": [
      "<class 'pandas.core.frame.DataFrame'>\n",
      "RangeIndex: 114 entries, 0 to 113\n",
      "Data columns (total 11 columns):\n",
      " #   Column                        Non-Null Count  Dtype  \n",
      "---  ------                        --------------  -----  \n",
      " 0   country                       114 non-null    object \n",
      " 1   subdivision                   114 non-null    object \n",
      " 2   type                          114 non-null    object \n",
      " 3   60kgs_bag                     114 non-null    float64\n",
      " 4   year                          114 non-null    int64  \n",
      " 5   nonbearing_trees              109 non-null    float64\n",
      " 6   bearing_trees                 109 non-null    float64\n",
      " 7   nonbear_hectares              109 non-null    float64\n",
      " 8   bearing_hectares              109 non-null    float64\n",
      " 9   bearing_trees_per_hectare     109 non-null    float64\n",
      " 10  nonbearing_trees_per_hectare  109 non-null    float64\n",
      "dtypes: float64(7), int64(1), object(3)\n",
      "memory usage: 9.9+ KB\n"
     ]
    }
   ],
   "source": [
    "# TODO: display the null values in your dataframe\n",
    "coffee.info()"
   ]
  },
  {
   "cell_type": "code",
   "execution_count": 8,
   "id": "52ba0572",
   "metadata": {},
   "outputs": [
    {
     "name": "stdout",
     "output_type": "stream",
     "text": [
      "<class 'pandas.core.frame.DataFrame'>\n",
      "Index: 109 entries, 0 to 113\n",
      "Data columns (total 11 columns):\n",
      " #   Column                        Non-Null Count  Dtype  \n",
      "---  ------                        --------------  -----  \n",
      " 0   country                       109 non-null    object \n",
      " 1   subdivision                   109 non-null    object \n",
      " 2   type                          109 non-null    object \n",
      " 3   60kgs_bag                     109 non-null    float64\n",
      " 4   year                          109 non-null    int64  \n",
      " 5   nonbearing_trees              109 non-null    float64\n",
      " 6   bearing_trees                 109 non-null    float64\n",
      " 7   nonbear_hectares              109 non-null    float64\n",
      " 8   bearing_hectares              109 non-null    float64\n",
      " 9   bearing_trees_per_hectare     109 non-null    float64\n",
      " 10  nonbearing_trees_per_hectare  109 non-null    float64\n",
      "dtypes: float64(7), int64(1), object(3)\n",
      "memory usage: 10.2+ KB\n"
     ]
    }
   ],
   "source": [
    "# TODO: drop your null values\n",
    "coffee.dropna(inplace=True)\n",
    "coffee.info()"
   ]
  },
  {
   "cell_type": "code",
   "execution_count": 13,
   "id": "71bfd191",
   "metadata": {},
   "outputs": [
    {
     "data": {
      "text/plain": [
       "array([  0,   5,  10,  15,  20,  25,  30,  35,  40,  45,  50,  55,  60,\n",
       "        69,  74,  79,  89,  94,  99, 104, 109])"
      ]
     },
     "execution_count": 13,
     "metadata": {},
     "output_type": "execute_result"
    }
   ],
   "source": [
    "# TODO: Select only Minas Gerais\n",
    "\n",
    "coffee_mg = coffee[coffee[\"subdivision\"] == \"Minas Gerais\"]\n",
    "coffee_mg.index.values"
   ]
  },
  {
   "cell_type": "code",
   "execution_count": null,
   "id": "22fd1940",
   "metadata": {},
   "outputs": [],
   "source": [
    "# TODO: BEGIN YOUR EDA!\n",
    "\n"
   ]
  },
  {
   "cell_type": "markdown",
   "id": "a33e1db5",
   "metadata": {},
   "source": [
    "## Reflections\n",
    "\n",
    "Answer each question based on the visualizations that you've generated.\n",
    "\n",
    "Remember, you must justify your answers with proof! Look back to W6D3 for more context."
   ]
  },
  {
   "cell_type": "markdown",
   "id": "fe46532b",
   "metadata": {},
   "source": [
    "How is bearing trees changing across the years for Minas Gerais? Is this increasing or decreasing? What is the distribution of this variable? Is it normal?\n",
    "\n",
    "Answer here"
   ]
  },
  {
   "cell_type": "markdown",
   "id": "ccd4f1e8",
   "metadata": {},
   "source": [
    "How is bearing hectares changing across the years for Minas Gerais? Is this increasing or decreasing? What is the distribution of this variable? Is it normal?\n",
    "\n",
    "Answer here"
   ]
  },
  {
   "cell_type": "markdown",
   "id": "0b500aa4",
   "metadata": {},
   "source": [
    "How is the count of million 60kgs bags of coffee changing across the years for Minas Gerais? Is this increasing or decreasing? What is the distribution of this variable? Is it normal?\n",
    "\n",
    "Answer here"
   ]
  },
  {
   "cell_type": "markdown",
   "id": "be3dab9c",
   "metadata": {},
   "source": [
    "What is the relationship between bearing_trees and 60kgs_bag? How *strong* is this relationship? Use pearson's correlation coefficient.\n",
    "\n",
    "Answer here"
   ]
  },
  {
   "cell_type": "markdown",
   "id": "ee6ea06a",
   "metadata": {},
   "source": [
    "What is the relationship between bearing_hectares and 60kgs_bag? How *strong* is this relationship? Use pearson's correlation coefficient.\n",
    "\n",
    "Answer here"
   ]
  }
 ],
 "metadata": {
  "kernelspec": {
   "display_name": "ds",
   "language": "python",
   "name": "python3"
  },
  "language_info": {
   "codemirror_mode": {
    "name": "ipython",
    "version": 3
   },
   "file_extension": ".py",
   "mimetype": "text/x-python",
   "name": "python",
   "nbconvert_exporter": "python",
   "pygments_lexer": "ipython3",
   "version": "3.12.9"
  }
 },
 "nbformat": 4,
 "nbformat_minor": 5
}
